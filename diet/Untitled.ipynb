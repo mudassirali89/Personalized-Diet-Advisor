{
 "cells": [
  {
   "cell_type": "code",
   "execution_count": 2,
   "id": "03d0f40a-1996-442d-baa9-d15e88c75768",
   "metadata": {},
   "outputs": [
    {
     "data": {
      "text/plain": [
       "['label_encoder.joblib']"
      ]
     },
     "execution_count": 2,
     "metadata": {},
     "output_type": "execute_result"
    }
   ],
   "source": [
    "import pandas as pd\n",
    "from sklearn.model_selection import train_test_split\n",
    "from sklearn.preprocessing import LabelEncoder\n",
    "from sklearn.ensemble import RandomForestClassifier\n",
    "from joblib import dump\n",
    "\n",
    "# Load the dataset\n",
    "df = pd.read_csv('disease_food.csv')\n",
    "\n",
    "# Encode categorical variables\n",
    "label_encoder = LabelEncoder()\n",
    "df['disease'] = label_encoder.fit_transform(df['disease'])\n",
    "df['food'] = label_encoder.fit_transform(df['food'])\n",
    "df['allowed'] = df['allowed'].map({'yes': 1, 'no': 0})\n",
    "\n",
    "# Split the data\n",
    "X = df[['disease', 'food']]\n",
    "y = df['allowed']\n",
    "X_train, X_test, y_train, y_test = train_test_split(X, y, test_size=0.2, random_state=42)\n",
    "\n",
    "# Train the model\n",
    "model = RandomForestClassifier()\n",
    "model.fit(X_train, y_train)\n",
    "\n",
    "# Save the model\n",
    "dump(model, 'food_disease_model.joblib')\n",
    "dump(label_encoder, 'label_encoder.joblib')\n"
   ]
  },
  {
   "cell_type": "code",
   "execution_count": null,
   "id": "b4b2e03b-1ee3-410e-a82f-1d2f8761960c",
   "metadata": {},
   "outputs": [],
   "source": []
  }
 ],
 "metadata": {
  "kernelspec": {
   "display_name": "Python 3 (ipykernel)",
   "language": "python",
   "name": "python3"
  },
  "language_info": {
   "codemirror_mode": {
    "name": "ipython",
    "version": 3
   },
   "file_extension": ".py",
   "mimetype": "text/x-python",
   "name": "python",
   "nbconvert_exporter": "python",
   "pygments_lexer": "ipython3",
   "version": "3.11.5"
  }
 },
 "nbformat": 4,
 "nbformat_minor": 5
}
